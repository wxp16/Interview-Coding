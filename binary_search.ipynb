{
 "cells": [
  {
   "cell_type": "code",
   "execution_count": null,
   "metadata": {},
   "outputs": [],
   "source": [
    "import os\n",
    "print(\"hello world\")"
   ]
  },
  {
   "cell_type": "code",
   "execution_count": 1,
   "metadata": {},
   "outputs": [
    {
     "name": "stdout",
     "output_type": "stream",
     "text": [
      "*************\n"
     ]
    }
   ],
   "source": [
    "print(\"*************\")"
   ]
  },
  {
   "cell_type": "markdown",
   "metadata": {},
   "source": [
    "A message containing letters from A-Z can be encoded into numbers using the following mapping:\n",
    "\n",
    "'A' -> \"1\"\n",
    "'B' -> \"2\"\n",
    "...\n",
    "'Z' -> \"26\"\n",
    "To decode an encoded message, all the digits must be grouped then mapped back into letters using the reverse of the mapping above (there may be multiple ways). For example, \"11106\" can be mapped into:\n",
    "\n",
    "\"AAJF\" with the grouping (1 1 10 6)\n",
    "\"KJF\" with the grouping (11 10 6)\n",
    "Note that the grouping (1 11 06) is invalid because \"06\" cannot be mapped into 'F' since \"6\" is different from \"06\".\n",
    "\n",
    "Given a string s containing only digits, return the number of ways to decode it.\n",
    "\n",
    "The test cases are generated so that the answer fits in a 32-bit integer.\n",
    "\n"
   ]
  },
  {
   "cell_type": "code",
   "execution_count": 8,
   "metadata": {},
   "outputs": [
    {
     "data": {
      "text/plain": [
       "3"
      ]
     },
     "execution_count": 8,
     "metadata": {},
     "output_type": "execute_result"
    }
   ],
   "source": [
    "def NumDecodings(s:str)->int:\n",
    "\n",
    "    if s.strip()==\"\":\n",
    "        return 0\n",
    "\n",
    "    ALL_DIGITS = [ i for i in range(10)]\n",
    "\n",
    "    VALID_2ND_DIGITS = [ i for i in range(7)]\n",
    "\n",
    "    num = 0\n",
    "\n",
    "    pre_i = \"\"\n",
    "\n",
    "\n",
    "    for i in s:\n",
    "        if pre_i == \"1\" and int(i) in ALL_DIGITS:\n",
    "            num +=2\n",
    "        if pre_i == \"2\" and  int(i) in VALID_2ND_DIGITS:\n",
    "            num +=2\n",
    "        if pre_i in [\"\",\"0\"] and int(i) in ALL_DIGITS and int(i) !=0:\n",
    "            num +=1\n",
    "        pre_i = i\n",
    "    \n",
    "    return num\n",
    "\n",
    "NumDecodings(\"12\")\n",
    "\n",
    "\n",
    "\n"
   ]
  },
  {
   "cell_type": "code",
   "execution_count": 6,
   "metadata": {},
   "outputs": [
    {
     "data": {
      "text/plain": [
       "[1, 2, 3, 4, 5, 6, 7, 8, 9]"
      ]
     },
     "execution_count": 6,
     "metadata": {},
     "output_type": "execute_result"
    }
   ],
   "source": [
    "NON_ZERO_DIGITS = [ 1 + i for i in range(9)]\n",
    "NON_ZERO_DIGITS"
   ]
  }
 ],
 "metadata": {
  "interpreter": {
   "hash": "e8d2d80473aa95d50a1c81516f1d5b4a59533016ed6d41e75f06aec8c08c83aa"
  },
  "kernelspec": {
   "display_name": "Python 3.10.1 64-bit",
   "language": "python",
   "name": "python3"
  },
  "language_info": {
   "codemirror_mode": {
    "name": "ipython",
    "version": 3
   },
   "file_extension": ".py",
   "mimetype": "text/x-python",
   "name": "python",
   "nbconvert_exporter": "python",
   "pygments_lexer": "ipython3",
   "version": "3.10.1"
  },
  "orig_nbformat": 4
 },
 "nbformat": 4,
 "nbformat_minor": 2
}
