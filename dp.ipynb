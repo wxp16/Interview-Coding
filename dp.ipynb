{
 "cells": [
  {
   "cell_type": "markdown",
   "metadata": {},
   "source": [
    "## Dynamic programing"
   ]
  },
  {
   "cell_type": "markdown",
   "metadata": {},
   "source": [
    "### Leetcode 91: Decode Array\n",
    "\n",
    "A message containing letters from A-Z can be encoded into numbers using the following mapping:\n",
    "\n",
    "'A' -> \"1\"\n",
    "'B' -> \"2\"\n",
    "...\n",
    "'Z' -> \"26\"\n",
    "To decode an encoded message, all the digits must be grouped then mapped back into letters using the reverse of the mapping above (there may be multiple ways). For example, \"11106\" can be mapped into:\n",
    "\n",
    "\"AAJF\" with the grouping (1 1 10 6)\n",
    "\"KJF\" with the grouping (11 10 6)\n",
    "Note that the grouping (1 11 06) is invalid because \"06\" cannot be mapped into 'F' since \"6\" is different from \"06\".\n",
    "\n",
    "Given a string s containing only digits, return the number of ways to decode it.\n",
    "\n",
    "The test cases are generated so that the answer fits in a 32-bit integer.\n"
   ]
  },
  {
   "cell_type": "code",
   "execution_count": 20,
   "metadata": {},
   "outputs": [
    {
     "name": "stdout",
     "output_type": "stream",
     "text": [
      "2\n"
     ]
    }
   ],
   "source": [
    "def NumDecodings(s:str)->int:\n",
    "    \"\"\"\n",
    "    \"\"\"\n",
    "    # if ith number is 1~9, means it can compose one way and plus dp[i-1], then dp[i] = dp[i-1] + 1. if ith number id 0~6, and i-1 the number is from 1~2, dp[i] += dp[i-2] \n",
    "    # dp[i] = dp[i-2] + 1. i = 0 can give initial value and if i = 1, dp[1] +== dp[i-2] but dp[-1] does not exist. therefore, give a extra space at the front\n",
    "    # base case:dp[0] = 1 ,dp[1] = 1\n",
    "    # Time: O(n), Space: O(n)\n",
    "\n",
    "    if s[0] == \"0\":\n",
    "        return 0\n",
    "        \n",
    "    n = len(s)\n",
    "    dp = [0]*(n+1)\n",
    "    dp[0] = 1\n",
    "    dp[1] = 1\n",
    "    \n",
    "    for i in range(2,n+1):\n",
    "        if 10 <= int(s[i-2:i]) <= 26:     # can compose double digit\n",
    "                dp[i] += dp[i-2]\n",
    "        if 1 <= int(s[i-1]) <= 9:         # can compose one digit\n",
    "            dp[i] += dp[i-1]\n",
    "    return dp[-1]\n",
    "\n",
    "\n",
    "s = \"13\"\n",
    "s = \"28\"\n",
    "s = \"128\"\n",
    "s = \"2101\"\n",
    "print(NumDecodings(s))\n",
    "        \n",
    "        \n",
    "        "
   ]
  },
  {
   "cell_type": "markdown",
   "metadata": {},
   "source": [
    "You are given an array prices where prices[i] is the price of a given stock on the ith day.\n",
    "\n",
    "You want to maximize your profit by choosing a single day to buy one stock and choosing a different day in the future to sell that stock.\n",
    "\n",
    "Return the maximum profit you can achieve from this transaction. If you cannot achieve any profit, return 0."
   ]
  },
  {
   "cell_type": "code",
   "execution_count": 58,
   "metadata": {},
   "outputs": [
    {
     "name": "stdout",
     "output_type": "stream",
     "text": [
      "5\n",
      "5\n"
     ]
    }
   ],
   "source": [
    "def maxProfit(prices):\n",
    "\n",
    "    maxProf = 0\n",
    "    \n",
    "    buy_pointer, sell_pointer = 0 , 1\n",
    "    \n",
    "    #sell_pointer = 1 # The 2nd item should be the 1st possible selling point.\n",
    "\n",
    "    while sell_pointer < len(prices):\n",
    "        \n",
    "        if sell_pointer > buy_pointer and prices[sell_pointer] - prices[buy_pointer] > maxProf: # sell pointer should be bigger than the buy pointer \n",
    "            maxProf = prices[sell_pointer] - prices[buy_pointer] # update the maxProfit \n",
    "\n",
    "        if prices[sell_pointer] < prices[buy_pointer]: # try to find the index with minmum prices, which will be the best buying point.\n",
    "            buy_pointer = sell_pointer #update the buy pointer\n",
    "\n",
    "        sell_pointer +=1 # mode sell pointer to the next item in the list\n",
    "\n",
    "    return maxProf\n",
    "prices = [7,1,5,3,6,4]\n",
    "a = maxProfit(prices)\n",
    "print(a)\n",
    "\n",
    "def maxProfit2(prices):\n",
    "    # should buy at the min price and sell at the max price\n",
    "    #assume the 1st element is the min prices, scan this list, and update the min_prices\n",
    "    #if the prices can cause negative profit, then need to update the buying point. \n",
    "    maxProf = 0 \n",
    "\n",
    "    buy_index = 0\n",
    "\n",
    "    for index in range(1,len(prices)):\n",
    "        if prices[index] - prices[buy_index] >=0 :\n",
    "            maxProf =  max(maxProf,  prices[index] - prices[buy_index] )\n",
    "        else:\n",
    "            buy_index=index\n",
    "    return maxProf\n",
    "\n",
    "b = maxProfit2(prices)\n",
    "print(b)\n",
    "            \n",
    "        "
   ]
  },
  {
   "cell_type": "markdown",
   "metadata": {},
   "source": [
    "Best Time to Buy and Sell a Stock II - Leetcode 122 - Python\n",
    "You are given an integer array prices where prices[i] is the price of a given stock on the ith day.\n",
    "\n",
    "On each day, you may decide to buy and/or sell the stock. You can only hold at most one share of the stock at any time. However, you can buy it then immediately sell it on the same day.\n",
    "\n",
    "Find and return the maximum profit you can achieve.\n",
    "\n",
    " "
   ]
  },
  {
   "cell_type": "code",
   "execution_count": 28,
   "metadata": {},
   "outputs": [
    {
     "data": {
      "text/plain": [
       "7"
      ]
     },
     "execution_count": 28,
     "metadata": {},
     "output_type": "execute_result"
    }
   ],
   "source": [
    "from typing import List\n",
    "def maxProfits(prices:List[int])->float:\n",
    "    maxP = 0\n",
    "\n",
    "    for i in range(1,len(prices),1):\n",
    "        if prices[i] - prices[i-1] > 0:\n",
    "            maxP += prices[i] - prices[i-1]\n",
    "    return maxP\n",
    "\n",
    "prices = [7,1,5,3,6,4]\n",
    "a = maxProfits(prices)\n",
    "a\n"
   ]
  },
  {
   "cell_type": "code",
   "execution_count": null,
   "metadata": {},
   "outputs": [],
   "source": [
    "def"
   ]
  },
  {
   "cell_type": "markdown",
   "metadata": {},
   "source": [
    "70. Climbing Stairs (https://leetcode.com/problems/climbing-stairs/)\n",
    "You are climbing a staircase. It takes n steps to reach the top.\n",
    "\n",
    "Each time you can either climb 1 or 2 steps. In how many distinct ways can you climb to the top?"
   ]
  },
  {
   "cell_type": "code",
   "execution_count": 13,
   "metadata": {},
   "outputs": [
    {
     "name": "stdout",
     "output_type": "stream",
     "text": [
      "Wall time: 0 ns\n",
      "573147844013817084101\n"
     ]
    }
   ],
   "source": [
    "def climbStairs( n):\n",
    "    if n == 1:\n",
    "            return 1\n",
    "    if n == 2:\n",
    "        return 2\n",
    "        \n",
    "    current_steps = 0\n",
    "    pre_pre_steps = 1\n",
    "    pre_steps =  2\n",
    "    \n",
    "    for index in range(2,n,1):\n",
    "        current_steps = pre_steps + pre_pre_steps\n",
    "        pre_pre_steps = pre_steps\n",
    "        pre_steps = current_steps\n",
    "        \n",
    "    return current_steps\n",
    "\n",
    "\n",
    "%time\n",
    "a= climbStairs(100) \n",
    "print(a)\n",
    "    "
   ]
  },
  {
   "cell_type": "code",
   "execution_count": 12,
   "metadata": {},
   "outputs": [
    {
     "name": "stdout",
     "output_type": "stream",
     "text": [
      "Wall time: 0 ns\n",
      "573147844013817084101\n"
     ]
    }
   ],
   "source": [
    "def recurveClimbStairs( n):\n",
    "    if n == 1:\n",
    "            return 1\n",
    "    if n == 2:\n",
    "        return 2\n",
    "\n",
    "    if n <3:\n",
    "        if n == 1:\n",
    "            return 1\n",
    "        elif n == 2:\n",
    "            return 2\n",
    "    else:\n",
    "        res = recurveClimbStairs(n-1) + recurveClimbStairs(n-2)\n",
    "        return res\n",
    "\n",
    "%time\n",
    "a= climbStairs(100) \n",
    "print(a)"
   ]
  },
  {
   "cell_type": "code",
   "execution_count": null,
   "metadata": {},
   "outputs": [],
   "source": []
  },
  {
   "cell_type": "markdown",
   "metadata": {},
   "source": [
    "\n",
    "Leetcode 53: Maximum Subarray\n",
    "\n",
    "Given an integer array nums, find the contiguous subarray (containing at least one number) which has the largest sum and return its sum.\n",
    "\n",
    "A subarray is a contiguous part of an array.\n",
    "\n"
   ]
  },
  {
   "cell_type": "code",
   "execution_count": 5,
   "metadata": {},
   "outputs": [
    {
     "data": {
      "text/plain": [
       "6"
      ]
     },
     "execution_count": 5,
     "metadata": {},
     "output_type": "execute_result"
    }
   ],
   "source": [
    "def maxSubArray(nums):\n",
    "\n",
    "    # use dp\n",
    "    maxSum_i= nums[0] #The subarray ending at ith num with maxSum\n",
    "    maxSum = nums[0]\n",
    "    for index in range(1,len(nums)):\n",
    "        maxSum_i = max(maxSum_i + nums[index], nums[index])\n",
    "        if maxSum_i > maxSum:\n",
    "            maxSum = maxSum_i\n",
    "\n",
    "    return maxSum\n",
    "\n",
    "nums = [-2,1,-3,4,-1,2,1,-5,4]\n",
    "maxSubArray(nums)\n",
    "\n",
    "        \n",
    "\n",
    "    \n"
   ]
  },
  {
   "cell_type": "code",
   "execution_count": 54,
   "metadata": {},
   "outputs": [
    {
     "name": "stdout",
     "output_type": "stream",
     "text": [
      "0\n",
      "a\n",
      "abb\n",
      "**************\n",
      "1\n",
      "a\n",
      "abb\n",
      "**************\n",
      "2\n",
      "b\n",
      "aab\n",
      "**************\n",
      "3\n",
      "b\n",
      "aab\n",
      "**************\n"
     ]
    },
    {
     "data": {
      "text/plain": [
       "-1"
      ]
     },
     "execution_count": 54,
     "metadata": {},
     "output_type": "execute_result"
    }
   ],
   "source": [
    "\n",
    "def firstUniqChar(s):\n",
    "    \"\"\"\n",
    "    :type s: str\n",
    "    :rtype: int\n",
    "    \"\"\"\n",
    "    if len(s) == 1:\n",
    "        return 0\n",
    "    res = -1\n",
    "\n",
    "    for index,c in enumerate(s):\n",
    "        if index==0:\n",
    "            pre_sub_str = \"\" \n",
    "        else:\n",
    "            pre_sub_str = s[0:index] if index-1 > 0 else s[0]\n",
    "\n",
    "        if index == len(s)-1:\n",
    "            after_sub_str = \"\"\n",
    "        else:\n",
    "            after_sub_str = s[index+1:] if index+1 != len(s)-1 else s[-1]\n",
    "        \n",
    "        print(index)\n",
    "        print(c)\n",
    "        print(pre_sub_str + after_sub_str)\n",
    "        print(\"**************\")\n",
    "        if c not in (pre_sub_str + after_sub_str):\n",
    "            res = index\n",
    "            break\n",
    "            \n",
    "    return res\n",
    "\n",
    "r = firstUniqChar(\"aabb\")\n",
    "r\n",
    "\n",
    "\n"
   ]
  },
  {
   "cell_type": "code",
   "execution_count": 49,
   "metadata": {},
   "outputs": [],
   "source": [
    "s=\"aabb\"\n"
   ]
  },
  {
   "cell_type": "code",
   "execution_count": null,
   "metadata": {},
   "outputs": [],
   "source": []
  },
  {
   "cell_type": "code",
   "execution_count": 47,
   "metadata": {},
   "outputs": [
    {
     "data": {
      "text/plain": [
       "''"
      ]
     },
     "execution_count": 47,
     "metadata": {},
     "output_type": "execute_result"
    }
   ],
   "source": [
    "\"aabb\"[0:0]"
   ]
  },
  {
   "cell_type": "code",
   "execution_count": 44,
   "metadata": {},
   "outputs": [
    {
     "data": {
      "text/plain": [
       "'b'"
      ]
     },
     "execution_count": 44,
     "metadata": {},
     "output_type": "execute_result"
    }
   ],
   "source": [
    "\"bb\"[0:-1]"
   ]
  },
  {
   "cell_type": "code",
   "execution_count": null,
   "metadata": {},
   "outputs": [],
   "source": []
  },
  {
   "cell_type": "code",
   "execution_count": 37,
   "metadata": {},
   "outputs": [
    {
     "data": {
      "text/plain": [
       "3"
      ]
     },
     "execution_count": 37,
     "metadata": {},
     "output_type": "execute_result"
    }
   ],
   "source": [
    "def firstUniqChar(s):\n",
    "    \n",
    "    res = -1\n",
    "    \n",
    "    for index, c in enumerate(s):\n",
    "        if index == 0: \n",
    "            pre_sub_str = \"\"\n",
    "        elif index-1 == 0:\n",
    "            pre_sub_str = s[0]\n",
    "        else:\n",
    "            pre_sub_str = s[0:index-1]\n",
    "\n",
    "\n",
    "        if index == len(s) -1:\n",
    "            after_sub_str = \"\"\n",
    "        elif index+1 == len(s) -1:\n",
    "            after_sub_str = s[-1]\n",
    "        else:\n",
    "            after_sub_str = s[index+1:]\n",
    "\n",
    "        tmp_s = pre_sub_str + after_sub_str\n",
    "\n",
    "\n",
    "\n",
    "        if c not in tmp_s:\n",
    "            res = index\n",
    "            break\n",
    "    return res\n",
    "    \n",
    "\n",
    "r = firstUniqChar(\"aabb\")\n",
    "r\n",
    "        \n"
   ]
  },
  {
   "cell_type": "code",
   "execution_count": 39,
   "metadata": {},
   "outputs": [
    {
     "ename": "ValueError",
     "evalue": "invalid literal for int() with base 10: 'b'",
     "output_type": "error",
     "traceback": [
      "\u001b[1;31m---------------------------------------------------------------------------\u001b[0m",
      "\u001b[1;31mValueError\u001b[0m                                Traceback (most recent call last)",
      "\u001b[1;32m~\\AppData\\Local\\Temp/ipykernel_12880/1629271388.py\u001b[0m in \u001b[0;36m<module>\u001b[1;34m\u001b[0m\n\u001b[1;32m----> 1\u001b[1;33m \u001b[0mint\u001b[0m\u001b[1;33m(\u001b[0m\u001b[1;34m\"b\"\u001b[0m\u001b[1;33m)\u001b[0m \u001b[1;33m-\u001b[0m \u001b[0mint\u001b[0m\u001b[1;33m(\u001b[0m\u001b[1;34m\"a\"\u001b[0m\u001b[1;33m)\u001b[0m\u001b[1;33m\u001b[0m\u001b[1;33m\u001b[0m\u001b[0m\n\u001b[0m",
      "\u001b[1;31mValueError\u001b[0m: invalid literal for int() with base 10: 'b'"
     ]
    }
   ],
   "source": [
    "int(\"b\") - int(\"a\")"
   ]
  },
  {
   "cell_type": "code",
   "execution_count": 27,
   "metadata": {},
   "outputs": [
    {
     "data": {
      "text/plain": [
       "'aa'"
      ]
     },
     "execution_count": 27,
     "metadata": {},
     "output_type": "execute_result"
    }
   ],
   "source": [
    "a[0:2]"
   ]
  },
  {
   "cell_type": "code",
   "execution_count": 10,
   "metadata": {},
   "outputs": [
    {
     "data": {
      "text/plain": [
       "True"
      ]
     },
     "execution_count": 10,
     "metadata": {},
     "output_type": "execute_result"
    }
   ],
   "source": [
    "a=\"aabb\"\n",
    "a[1:]\n",
    "\"a\" in a[1:]"
   ]
  }
 ],
 "metadata": {
  "interpreter": {
   "hash": "e8d2d80473aa95d50a1c81516f1d5b4a59533016ed6d41e75f06aec8c08c83aa"
  },
  "kernelspec": {
   "display_name": "Python 3.10.1 64-bit",
   "language": "python",
   "name": "python3"
  },
  "language_info": {
   "codemirror_mode": {
    "name": "ipython",
    "version": 3
   },
   "file_extension": ".py",
   "mimetype": "text/x-python",
   "name": "python",
   "nbconvert_exporter": "python",
   "pygments_lexer": "ipython3",
   "version": "3.10.1"
  },
  "orig_nbformat": 4
 },
 "nbformat": 4,
 "nbformat_minor": 2
}
