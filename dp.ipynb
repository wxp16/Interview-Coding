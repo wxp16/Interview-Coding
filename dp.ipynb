{
 "cells": [
  {
   "cell_type": "markdown",
   "metadata": {},
   "source": [
    "## Dynamic programing"
   ]
  },
  {
   "cell_type": "markdown",
   "metadata": {},
   "source": [
    "### Leetcode 91: Decode Array\n",
    "\n",
    "A message containing letters from A-Z can be encoded into numbers using the following mapping:\n",
    "\n",
    "'A' -> \"1\"\n",
    "'B' -> \"2\"\n",
    "...\n",
    "'Z' -> \"26\"\n",
    "To decode an encoded message, all the digits must be grouped then mapped back into letters using the reverse of the mapping above (there may be multiple ways). For example, \"11106\" can be mapped into:\n",
    "\n",
    "\"AAJF\" with the grouping (1 1 10 6)\n",
    "\"KJF\" with the grouping (11 10 6)\n",
    "Note that the grouping (1 11 06) is invalid because \"06\" cannot be mapped into 'F' since \"6\" is different from \"06\".\n",
    "\n",
    "Given a string s containing only digits, return the number of ways to decode it.\n",
    "\n",
    "The test cases are generated so that the answer fits in a 32-bit integer.\n"
   ]
  },
  {
   "cell_type": "code",
   "execution_count": 20,
   "metadata": {},
   "outputs": [
    {
     "name": "stdout",
     "output_type": "stream",
     "text": [
      "2\n"
     ]
    }
   ],
   "source": [
    "def NumDecodings(s:str)->int:\n",
    "    \"\"\"\n",
    "    \"\"\"\n",
    "    # if ith number is 1~9, means it can compose one way and plus dp[i-1], then dp[i] = dp[i-1] + 1. if ith number id 0~6, and i-1 the number is from 1~2, dp[i] += dp[i-2] \n",
    "    # dp[i] = dp[i-2] + 1. i = 0 can give initial value and if i = 1, dp[1] +== dp[i-2] but dp[-1] does not exist. therefore, give a extra space at the front\n",
    "    # base case:dp[0] = 1 ,dp[1] = 1\n",
    "    # Time: O(n), Space: O(n)\n",
    "\n",
    "    if s[0] == \"0\":\n",
    "        return 0\n",
    "        \n",
    "    n = len(s)\n",
    "    dp = [0]*(n+1)\n",
    "    dp[0] = 1\n",
    "    dp[1] = 1\n",
    "    \n",
    "    for i in range(2,n+1):\n",
    "        if 10 <= int(s[i-2:i]) <= 26:     # can compose double digit\n",
    "                dp[i] += dp[i-2]\n",
    "        if 1 <= int(s[i-1]) <= 9:         # can compose one digit\n",
    "            dp[i] += dp[i-1]\n",
    "    return dp[-1]\n",
    "\n",
    "\n",
    "s = \"13\"\n",
    "s = \"28\"\n",
    "s = \"128\"\n",
    "s = \"2101\"\n",
    "print(NumDecodings(s))\n",
    "        \n",
    "        \n",
    "        "
   ]
  },
  {
   "cell_type": "markdown",
   "metadata": {},
   "source": [
    "You are given an array prices where prices[i] is the price of a given stock on the ith day.\n",
    "\n",
    "You want to maximize your profit by choosing a single day to buy one stock and choosing a different day in the future to sell that stock.\n",
    "\n",
    "Return the maximum profit you can achieve from this transaction. If you cannot achieve any profit, return 0."
   ]
  },
  {
   "cell_type": "code",
   "execution_count": 58,
   "metadata": {},
   "outputs": [
    {
     "name": "stdout",
     "output_type": "stream",
     "text": [
      "5\n",
      "5\n"
     ]
    }
   ],
   "source": [
    "def maxProfit(prices):\n",
    "\n",
    "    maxProf = 0\n",
    "    \n",
    "    buy_pointer, sell_pointer = 0 , 1\n",
    "    \n",
    "    #sell_pointer = 1 # The 2nd item should be the 1st possible selling point.\n",
    "\n",
    "    while sell_pointer < len(prices):\n",
    "        \n",
    "        if sell_pointer > buy_pointer and prices[sell_pointer] - prices[buy_pointer] > maxProf: # sell pointer should be bigger than the buy pointer \n",
    "            maxProf = prices[sell_pointer] - prices[buy_pointer] # update the maxProfit \n",
    "\n",
    "        if prices[sell_pointer] < prices[buy_pointer]: # try to find the index with minmum prices, which will be the best buying point.\n",
    "            buy_pointer = sell_pointer #update the buy pointer\n",
    "\n",
    "        sell_pointer +=1 # mode sell pointer to the next item in the list\n",
    "\n",
    "    return maxProf\n",
    "prices = [7,1,5,3,6,4]\n",
    "a = maxProfit(prices)\n",
    "print(a)\n",
    "\n",
    "def maxProfit2(prices):\n",
    "    # should buy at the min price and sell at the max price\n",
    "    #assume the 1st element is the min prices, scan this list, and update the min_prices\n",
    "    #if the prices can cause negative profit, then need to update the buying point. \n",
    "    maxProf = 0 \n",
    "\n",
    "    buy_index = 0\n",
    "\n",
    "    for index in range(1,len(prices)):\n",
    "        if prices[index] - prices[buy_index] >=0 :\n",
    "            maxProf =  max(maxProf,  prices[index] - prices[buy_index] )\n",
    "        else:\n",
    "            buy_index=index\n",
    "    return maxProf\n",
    "\n",
    "b = maxProfit2(prices)\n",
    "print(b)\n",
    "            \n",
    "        "
   ]
  },
  {
   "cell_type": "markdown",
   "metadata": {},
   "source": [
    "Best Time to Buy and Sell a Stock II - Leetcode 122 - Python\n",
    "You are given an integer array prices where prices[i] is the price of a given stock on the ith day.\n",
    "\n",
    "On each day, you may decide to buy and/or sell the stock. You can only hold at most one share of the stock at any time. However, you can buy it then immediately sell it on the same day.\n",
    "\n",
    "Find and return the maximum profit you can achieve.\n",
    "\n",
    " "
   ]
  },
  {
   "cell_type": "code",
   "execution_count": 28,
   "metadata": {},
   "outputs": [
    {
     "data": {
      "text/plain": [
       "7"
      ]
     },
     "execution_count": 28,
     "metadata": {},
     "output_type": "execute_result"
    }
   ],
   "source": [
    "from typing import List\n",
    "def maxProfits(prices:List[int])->float:\n",
    "    maxP = 0\n",
    "\n",
    "    for i in range(1,len(prices),1):\n",
    "        if prices[i] - prices[i-1] > 0:\n",
    "            maxP += prices[i] - prices[i-1]\n",
    "    return maxP\n",
    "\n",
    "prices = [7,1,5,3,6,4]\n",
    "a = maxProfits(prices)\n",
    "a\n"
   ]
  },
  {
   "cell_type": "code",
   "execution_count": null,
   "metadata": {},
   "outputs": [],
   "source": [
    "def"
   ]
  },
  {
   "cell_type": "markdown",
   "metadata": {},
   "source": [
    "70. Climbing Stairs (https://leetcode.com/problems/climbing-stairs/)\n",
    "You are climbing a staircase. It takes n steps to reach the top.\n",
    "\n",
    "Each time you can either climb 1 or 2 steps. In how many distinct ways can you climb to the top?"
   ]
  },
  {
   "cell_type": "code",
   "execution_count": 13,
   "metadata": {},
   "outputs": [
    {
     "name": "stdout",
     "output_type": "stream",
     "text": [
      "Wall time: 0 ns\n",
      "573147844013817084101\n"
     ]
    }
   ],
   "source": [
    "def climbStairs( n):\n",
    "    if n == 1:\n",
    "            return 1\n",
    "    if n == 2:\n",
    "        return 2\n",
    "        \n",
    "    current_steps = 0\n",
    "    pre_pre_steps = 1\n",
    "    pre_steps =  2\n",
    "    \n",
    "    for index in range(2,n,1):\n",
    "        current_steps = pre_steps + pre_pre_steps\n",
    "        pre_pre_steps = pre_steps\n",
    "        pre_steps = current_steps\n",
    "        \n",
    "    return current_steps\n",
    "\n",
    "\n",
    "%time\n",
    "a= climbStairs(100) \n",
    "print(a)\n",
    "    "
   ]
  },
  {
   "cell_type": "code",
   "execution_count": 12,
   "metadata": {},
   "outputs": [
    {
     "name": "stdout",
     "output_type": "stream",
     "text": [
      "Wall time: 0 ns\n",
      "573147844013817084101\n"
     ]
    }
   ],
   "source": [
    "def recurveClimbStairs( n):\n",
    "    if n == 1:\n",
    "            return 1\n",
    "    if n == 2:\n",
    "        return 2\n",
    "\n",
    "    if n <3:\n",
    "        if n == 1:\n",
    "            return 1\n",
    "        elif n == 2:\n",
    "            return 2\n",
    "    else:\n",
    "        res = recurveClimbStairs(n-1) + recurveClimbStairs(n-2)\n",
    "        return res\n",
    "\n",
    "%time\n",
    "a= climbStairs(100) \n",
    "print(a)"
   ]
  },
  {
   "cell_type": "markdown",
   "metadata": {},
   "source": [
    "\n",
    "Leetcode 53: Maximum Subarray\n",
    "\n",
    "Given an integer array nums, find the contiguous subarray (containing at least one number) which has the largest sum and return its sum.\n",
    "\n",
    "A subarray is a contiguous part of an array.\n",
    "\n"
   ]
  },
  {
   "cell_type": "code",
   "execution_count": 13,
   "metadata": {},
   "outputs": [
    {
     "data": {
      "text/plain": [
       "6"
      ]
     },
     "execution_count": 13,
     "metadata": {},
     "output_type": "execute_result"
    }
   ],
   "source": [
    "def maxSubArray(nums):\n",
    "\n",
    "    # use dp\n",
    "    maxSum_i= nums[0] #The subarray ending at ith num with maxSum\n",
    "    maxSum = nums[0]\n",
    "    for index in range(1,len(nums)):\n",
    "        maxSum_i = max(maxSum_i + nums[index], nums[index])\n",
    "        if maxSum_i > maxSum:\n",
    "            maxSum = maxSum_i\n",
    "\n",
    "    return maxSum\n",
    "\n",
    "nums = [-2,1,-3,4,-1,2,1,-5,4]\n",
    "maxSubArray(nums)\n"
   ]
  },
  {
   "cell_type": "markdown",
   "metadata": {},
   "source": [
    "Given a string s, find the first non-repeating character in it and return its index. If it does not exist, return -1.\n",
    "https://leetcode.com/problems/first-unique-character-in-a-string/"
   ]
  },
  {
   "cell_type": "code",
   "execution_count": 11,
   "metadata": {},
   "outputs": [
    {
     "data": {
      "text/plain": [
       "-1"
      ]
     },
     "execution_count": 11,
     "metadata": {},
     "output_type": "execute_result"
    }
   ],
   "source": [
    "\n",
    "def firstUniqChar(s):\n",
    "    \"\"\"\n",
    "    :type s: str\n",
    "    :rtype: int\n",
    "    \"\"\"\n",
    "    if len(s) == 1:\n",
    "        return 0\n",
    "    res = -1\n",
    "\n",
    "    for index,c in enumerate(s):\n",
    "        if index==0:\n",
    "            pre_sub_str = \"\" \n",
    "        else:\n",
    "            pre_sub_str = s[0:index] if index-1 > 0 else s[0]\n",
    "\n",
    "        if index == len(s)-1:\n",
    "            after_sub_str = \"\"\n",
    "        else:\n",
    "            after_sub_str = s[index+1:] if index+1 != len(s)-1 else s[-1]\n",
    "        \n",
    "        if c not in (pre_sub_str + after_sub_str):\n",
    "            res = index\n",
    "            break\n",
    "            \n",
    "    return res\n",
    "\n",
    "r = firstUniqChar(\"aabb\")\n",
    "r\n",
    "\n"
   ]
  },
  {
   "cell_type": "code",
   "execution_count": 10,
   "metadata": {},
   "outputs": [
    {
     "data": {
      "text/plain": [
       "-1"
      ]
     },
     "execution_count": 10,
     "metadata": {},
     "output_type": "execute_result"
    }
   ],
   "source": [
    "def firstUniqChar(s):\n",
    "    \"\"\"\n",
    "    Can build a char occurence dict. The key is the char, at most 26 keys, and the value is the char's occurance in the string\n",
    "    Scan all chars in the string from left to right, if one char's occurance is 2, then stop, return the index\n",
    "    \"\"\"\n",
    "    import string\n",
    "    alphabet_string = list(string.ascii_lowercase)\n",
    "    char_fre = {}\n",
    "    \n",
    "    for c in alphabet_string:\n",
    "        char_fre[c] = 0\n",
    "\n",
    "    res = -1\n",
    "    for index in range(0,len(s)):\n",
    "        if char_fre[s[index]] >0 :\n",
    "            res = index\n",
    "            break\n",
    "    return res\n",
    "r = firstUniqChar(\"aabb\")\n",
    "r"
   ]
  },
  {
   "cell_type": "code",
   "execution_count": null,
   "metadata": {},
   "outputs": [],
   "source": [
    "96. Unique Binary Search Trees"
   ]
  },
  {
   "cell_type": "markdown",
   "metadata": {},
   "source": [
    "96. Unique Binary Search Trees\n",
    "Given an integer n, return the number of structurally unique BST's (binary search trees) which has exactly n nodes of unique values from 1 to n."
   ]
  },
  {
   "cell_type": "code",
   "execution_count": 22,
   "metadata": {},
   "outputs": [
    {
     "name": "stdout",
     "output_type": "stream",
     "text": [
      "3\n",
      "3\n",
      "4\n"
     ]
    },
    {
     "data": {
      "text/plain": [
       "12"
      ]
     },
     "execution_count": 22,
     "metadata": {},
     "output_type": "execute_result"
    }
   ],
   "source": [
    "def numUniqueBst(n):\n",
    "    # 1\n",
    "    if n == 1:\n",
    "        return 1\n",
    "    # 1           2\n",
    "    #  \\         /\n",
    "    #   2       1\n",
    "    if n == 2:\n",
    "        return 2\n",
    "\n",
    "    bst_pre = 2\n",
    "    bst_pre_pre = 1\n",
    "    for index in range(3,n+1):\n",
    "        print(index)\n",
    "        bst = 2*bst_pre + bst_pre_pre\n",
    "        bst_pre_pre = bst_pre\n",
    "        bst_pre = bst\n",
    "    \n",
    "    return bst\n",
    "\n",
    "r = numUniqueBst(3)  \n",
    "r\n",
    "\n",
    "r = numUniqueBst(4)  \n",
    "r"
   ]
  },
  {
   "cell_type": "code",
   "execution_count": 17,
   "metadata": {},
   "outputs": [],
   "source": [
    "def numUniqueBst(n):\n",
    "    # 1\n",
    "    if n == 1:\n",
    "        return 1\n",
    "    # 1           2\n",
    "    #  \\         /\n",
    "    #   2       1\n",
    "    if n == 2:\n",
    "        return 2\n",
    "\n",
    "    bst_pre = 2\n",
    "    bst_pre_pre = 1\n",
    "    for index in range(3,n+1):\n",
    "        bst = 2*bst_pre + bst_pre_pre\n",
    "        bst_pre_pre = bst_pre\n",
    "        bst_pre = bst\n",
    "    \n",
    "    return bst\n",
    "\n",
    "r = numUniqueBst(1)    \n"
   ]
  },
  {
   "cell_type": "markdown",
   "metadata": {},
   "source": [
    "105. Construct Binary Tree from Preorder and Inorder Traversal\n",
    "Given two integer arrays preorder and inorder where preorder is the preorder traversal of a binary tree and inorder is the inorder traversal of the same tree, construct and return the binary tree.\n",
    "\n",
    " \n",
    "\n",
    "Example 1:\n",
    "\n",
    "\n",
    "Input: preorder = [3,9,20,15,7], inorder = [9,3,15,20,7]\n",
    "Output: [3,9,20,null,null,15,7]"
   ]
  },
  {
   "cell_type": "code",
   "execution_count": 27,
   "metadata": {},
   "outputs": [
    {
     "data": {
      "text/plain": [
       "[15, 20, 7]"
      ]
     },
     "execution_count": 27,
     "metadata": {},
     "output_type": "execute_result"
    }
   ],
   "source": [
    "[9,3,15,20,7][2:]"
   ]
  },
  {
   "cell_type": "code",
   "execution_count": 31,
   "metadata": {},
   "outputs": [
    {
     "data": {
      "text/plain": [
       "<__main__.Node at 0x1d8576f6b00>"
      ]
     },
     "execution_count": 31,
     "metadata": {},
     "output_type": "execute_result"
    }
   ],
   "source": [
    "class Node:\n",
    "    def __init__(self, value):\n",
    "        self.value = value\n",
    "        self.left = None\n",
    "        self.right = None\n",
    "\n",
    "def valueIndexMapping(inputs):\n",
    "    v2i = {}\n",
    "    for index,i in enumerate(inputs):\n",
    "        v2i[i] = index\n",
    "    return v2i\n",
    "\n",
    "def buildBinaryTree(pre_order,inoder):\n",
    "    # preorder traversal: given a tree, vist the root first, then left,  the right branch comes last.\n",
    "    # inorder traversal: left first, then root, last is the right branch. \n",
    "\n",
    "    # the 1st element in the preorder traversal should be a tree's root, however, in the inorder, all values on the left side of the value in preorder are from left branch.\n",
    "    # so for all values from left branch can build the pre_order and inorder list, then use the recursive method to build the left side.\n",
    "    # do the same way for the right branch.  \n",
    "\n",
    "    # only one value in pre_order and inorder,just return a leaf node.\n",
    "    if len(pre_order)==1:\n",
    "        return Node(pre_order[0])\n",
    "\n",
    "    if len(pre_order)==0:\n",
    "        return None\n",
    "\n",
    "    preorder_v2i = valueIndexMapping(pre_order)\n",
    "    inoder_v2i = valueIndexMapping(inoder)\n",
    "\n",
    "    root_value = pre_order[0]\n",
    "    root = Node(root_value)\n",
    "\n",
    "    inorder_index = inoder_v2i[root_value]\n",
    "    \n",
    "    left_inorder = inoder[0:inorder_index]\n",
    "    left_preorder = [ pre_order[preorder_v2i[ele]]   for ele in left_inorder]\n",
    "    \n",
    "    root.left = buildBinaryTree(left_preorder,left_inorder)\n",
    "\n",
    "    right_inorder = inoder[inorder_index+1:]\n",
    "    right_preorder = [ pre_order[preorder_v2i[ele]]   for ele in right_inorder]\n",
    "    root.right = buildBinaryTree(right_preorder,right_inorder)\n",
    "\n",
    "    return root\n",
    "\n",
    "\n",
    "preorder = [3,9,20,15,7]\n",
    "inorder = [9,3,15,20,7]\n",
    "\n",
    "r = buildBinaryTree(preorder,inorder)\n",
    "r\n",
    "\n",
    "\n",
    "    \n",
    "    \n"
   ]
  },
  {
   "cell_type": "code",
   "execution_count": 32,
   "metadata": {},
   "outputs": [
    {
     "name": "stdout",
     "output_type": "stream",
     "text": [
      "<__main__.Node object at 0x000001D8576F6B00>\n"
     ]
    }
   ],
   "source": [
    "print(r)"
   ]
  },
  {
   "cell_type": "code",
   "execution_count": 24,
   "metadata": {},
   "outputs": [
    {
     "data": {
      "text/plain": [
       "0"
      ]
     },
     "execution_count": 24,
     "metadata": {},
     "output_type": "execute_result"
    }
   ],
   "source": [
    " [9,3,15,20,7].index(9)"
   ]
  }
 ],
 "metadata": {
  "interpreter": {
   "hash": "e8d2d80473aa95d50a1c81516f1d5b4a59533016ed6d41e75f06aec8c08c83aa"
  },
  "kernelspec": {
   "display_name": "Python 3.10.1 64-bit",
   "language": "python",
   "name": "python3"
  },
  "language_info": {
   "codemirror_mode": {
    "name": "ipython",
    "version": 3
   },
   "file_extension": ".py",
   "mimetype": "text/x-python",
   "name": "python",
   "nbconvert_exporter": "python",
   "pygments_lexer": "ipython3",
   "version": "3.10.1"
  },
  "orig_nbformat": 4
 },
 "nbformat": 4,
 "nbformat_minor": 2
}
